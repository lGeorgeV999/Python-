{
 "cells": [
  {
   "cell_type": "code",
   "execution_count": 1,
   "id": "0512a3ad",
   "metadata": {},
   "outputs": [
    {
     "name": "stdout",
     "output_type": "stream",
     "text": [
      "This is the employee of dsai\n",
      "name of the employee is pranoti\n",
      "age of the employee is 23\n"
     ]
    }
   ],
   "source": [
    "class employee:  #class is the blue-print of object.\n",
    "    def __init__(self,name,age):\n",
    "        self.name=name\n",
    "        self.age=age\n",
    "        \n",
    "    def DSAI(self):\n",
    "        print(\"This is the employee of dsai\")\n",
    "        print('name of the employee is', self.name)\n",
    "        print('age of the employee is', self.age)\n",
    "emp = employee('pranoti',23)\n",
    "emp.DSAI()  #object is a any real world entity"
   ]
  },
  {
   "cell_type": "markdown",
   "id": "64135886",
   "metadata": {},
   "source": [
    "The purpose of object oriented programming is to develop application using an class and object.      \n",
    "\n",
    "A object oriented programming is a paradign is to design classes and objects.       \n",
    "\n",
    "The object is related to the real world entities such as mouse, monitor,cpu etc.         \n",
    "\n",
    "The oops concept focus on writing the re-usable code.         \n",
    "\n",
    "An object has two characteristic:          \n",
    "\n",
    "1.attribute           \n",
    "2.Behaviour           \n",
    "\n",
    "eg. A parrot is an object\n",
    "Attribute : color,name,age,species\n",
    "Behaviour : flying,eating,talkin"
   ]
  },
  {
   "cell_type": "code",
   "execution_count": 2,
   "id": "19c6b69a",
   "metadata": {},
   "outputs": [],
   "source": [
    "class elephant:\n",
    "    #instance attributes\n",
    "    def __init__ (self,name,age):\n",
    "        self.name=name\n",
    "        self.age=age\n",
    "        \n",
    "    #instance method\n",
    "    def dance(self,song):\n",
    "        return \"{} dance {}\".format(self.name,song)\n",
    "    def eat(self):\n",
    "        return \"{} is now eating\".format(self.name)"
   ]
  },
  {
   "cell_type": "code",
   "execution_count": null,
   "id": "b58fc70f",
   "metadata": {},
   "outputs": [],
   "source": []
  }
 ],
 "metadata": {
  "kernelspec": {
   "display_name": "Python 3 (ipykernel)",
   "language": "python",
   "name": "python3"
  },
  "language_info": {
   "codemirror_mode": {
    "name": "ipython",
    "version": 3
   },
   "file_extension": ".py",
   "mimetype": "text/x-python",
   "name": "python",
   "nbconvert_exporter": "python",
   "pygments_lexer": "ipython3",
   "version": "3.9.12"
  }
 },
 "nbformat": 4,
 "nbformat_minor": 5
}
