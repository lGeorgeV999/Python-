{
 "cells": [
  {
   "cell_type": "markdown",
   "id": "46eddabd",
   "metadata": {},
   "source": [
    "NumPy : \n",
    "\n",
    "NumPy is a python library used for working with arrays."
   ]
  },
  {
   "cell_type": "code",
   "execution_count": 1,
   "id": "e0c9242a",
   "metadata": {},
   "outputs": [
    {
     "name": "stdout",
     "output_type": "stream",
     "text": [
      "[12 13 14]\n"
     ]
    }
   ],
   "source": [
    "import numpy as np\n",
    "arr = np.array([12,13,14])\n",
    "print(arr)"
   ]
  },
  {
   "cell_type": "code",
   "execution_count": 2,
   "id": "ffbfef3e",
   "metadata": {},
   "outputs": [
    {
     "name": "stdout",
     "output_type": "stream",
     "text": [
      "42\n",
      "0\n"
     ]
    }
   ],
   "source": [
    "#0-D Arrays\n",
    "\n",
    "arr = np.array(42)\n",
    "print(arr)\n",
    "print(arr.ndim)"
   ]
  },
  {
   "cell_type": "code",
   "execution_count": 3,
   "id": "ad59f9e7",
   "metadata": {},
   "outputs": [
    {
     "name": "stdout",
     "output_type": "stream",
     "text": [
      "[1 2 3 4 5]\n",
      "1\n"
     ]
    }
   ],
   "source": [
    "#1-D Array\n",
    "\n",
    "arr = np.array([1,2,3,4,5])\n",
    "print(arr)\n",
    "print(arr.ndim)"
   ]
  },
  {
   "cell_type": "code",
   "execution_count": 5,
   "id": "26b8d56e",
   "metadata": {},
   "outputs": [
    {
     "name": "stdout",
     "output_type": "stream",
     "text": [
      "[[1 2 3]\n",
      " [4 5 6]]\n",
      "this is the dimension of the array  2\n"
     ]
    }
   ],
   "source": [
    "#2-D Array\n",
    "\n",
    "arr = np.array([[1,2,3],[4,5,6]])\n",
    "print(arr)\n",
    "print(\"this is the dimension of the array \",arr.ndim)"
   ]
  },
  {
   "cell_type": "code",
   "execution_count": 6,
   "id": "d3d4b78d",
   "metadata": {},
   "outputs": [
    {
     "name": "stdout",
     "output_type": "stream",
     "text": [
      "[[[1 2 3]\n",
      "  [4 5 6]]\n",
      "\n",
      " [[7 8 9]\n",
      "  [8 0 1]]]\n",
      "3\n"
     ]
    }
   ],
   "source": [
    "#3-D Array\n",
    "\n",
    "arr = np.array([[[1,2,3],[4,5,6]],[[7,8,9],[8,0,1]]])\n",
    "print(arr)\n",
    "print(arr.ndim)"
   ]
  },
  {
   "cell_type": "markdown",
   "id": "96e30d66",
   "metadata": {},
   "source": [
    "Higher Dimensional Arrays"
   ]
  },
  {
   "cell_type": "code",
   "execution_count": 7,
   "id": "2e66eb33",
   "metadata": {},
   "outputs": [
    {
     "name": "stdout",
     "output_type": "stream",
     "text": [
      "[[[[[1 2 3 4]]]]]\n",
      "number of dimensions : 5\n"
     ]
    }
   ],
   "source": [
    "arr = np.array([1,2,3,4], ndmin=5)\n",
    "print(arr)\n",
    "print('number of dimensions :', arr.ndim)"
   ]
  },
  {
   "cell_type": "code",
   "execution_count": 8,
   "id": "84c43129",
   "metadata": {},
   "outputs": [
    {
     "name": "stdout",
     "output_type": "stream",
     "text": [
      "1\n"
     ]
    }
   ],
   "source": [
    "#indexing\n",
    "arr = np.array([1,2,3,4])\n",
    "print(arr[0])"
   ]
  },
  {
   "cell_type": "markdown",
   "id": "e31195c9",
   "metadata": {},
   "source": [
    "Accessing"
   ]
  },
  {
   "cell_type": "code",
   "execution_count": 9,
   "id": "274ce839",
   "metadata": {},
   "outputs": [
    {
     "name": "stdout",
     "output_type": "stream",
     "text": [
      "2nd element on 1st row:  2\n"
     ]
    }
   ],
   "source": [
    "arr = np.array([[1,2,3,4,5],[6,7,8,9,10]])\n",
    "print('2nd element on 1st row: ', arr[0,1])"
   ]
  },
  {
   "cell_type": "code",
   "execution_count": 10,
   "id": "8ea609c0",
   "metadata": {},
   "outputs": [
    {
     "name": "stdout",
     "output_type": "stream",
     "text": [
      "5th element on 2nd row:  10\n"
     ]
    }
   ],
   "source": [
    "arr = np.array([[1,2,3,4,5],[6,7,8,9,10]])\n",
    "print('5th element on 2nd row: ', arr[1,4])"
   ]
  },
  {
   "cell_type": "code",
   "execution_count": 11,
   "id": "b7718b15",
   "metadata": {},
   "outputs": [
    {
     "name": "stdout",
     "output_type": "stream",
     "text": [
      "6\n"
     ]
    }
   ],
   "source": [
    "arr = np.array([[[1,2,3],[4,5,6]],[[7,8,9],[8,0,1]]])\n",
    "print(arr[0,1,2])"
   ]
  },
  {
   "cell_type": "markdown",
   "id": "a82328ef",
   "metadata": {},
   "source": [
    "Negative indexing"
   ]
  },
  {
   "cell_type": "code",
   "execution_count": 12,
   "id": "2f1a4d4b",
   "metadata": {},
   "outputs": [
    {
     "name": "stdout",
     "output_type": "stream",
     "text": [
      "Last element from 2nd dim:  10\n"
     ]
    }
   ],
   "source": [
    "#print last element from 2nd dim:\n",
    "arr = np.array([[1,2,3,4,5],[6,7,8,9,10]])\n",
    "print('Last element from 2nd dim: ', arr[1, -1])"
   ]
  },
  {
   "cell_type": "code",
   "execution_count": 13,
   "id": "ee2babea",
   "metadata": {},
   "outputs": [
    {
     "name": "stdout",
     "output_type": "stream",
     "text": [
      "[3 4]\n"
     ]
    }
   ],
   "source": [
    "arr = np.array([1,2,3,4,5,6,7])\n",
    "print(arr[-5:-3])"
   ]
  },
  {
   "cell_type": "code",
   "execution_count": 14,
   "id": "3e59ba1c",
   "metadata": {},
   "outputs": [
    {
     "name": "stdout",
     "output_type": "stream",
     "text": [
      "[2 4]\n"
     ]
    }
   ],
   "source": [
    "arr = np.array([1,2,3,4,5,6,7])\n",
    "print(arr[1:5:2])"
   ]
  },
  {
   "cell_type": "code",
   "execution_count": 15,
   "id": "39b0298f",
   "metadata": {},
   "outputs": [
    {
     "name": "stdout",
     "output_type": "stream",
     "text": [
      "[1 3 5 7]\n"
     ]
    }
   ],
   "source": [
    "arr = np.array([1,2,3,4,5,6,7])\n",
    "print(arr[::2])"
   ]
  },
  {
   "cell_type": "markdown",
   "id": "4e78bb00",
   "metadata": {},
   "source": [
    "Slicing 2-D Arrays\n",
    "\n",
    "From the second element,slice elements from index 1 to index 4."
   ]
  },
  {
   "cell_type": "code",
   "execution_count": 16,
   "id": "29fbcc2d",
   "metadata": {},
   "outputs": [
    {
     "name": "stdout",
     "output_type": "stream",
     "text": [
      "[7 8 9]\n"
     ]
    }
   ],
   "source": [
    "arr = arr = np.array([[1,2,3,4,5],[6,7,8,9,10]])\n",
    "print(arr[1, 1:4])"
   ]
  },
  {
   "cell_type": "markdown",
   "id": "8f1d85fc",
   "metadata": {},
   "source": [
    "Shape of an array"
   ]
  },
  {
   "cell_type": "code",
   "execution_count": 17,
   "id": "a235c0d4",
   "metadata": {},
   "outputs": [
    {
     "name": "stdout",
     "output_type": "stream",
     "text": [
      "(2, 5)\n"
     ]
    }
   ],
   "source": [
    "arr = arr = np.array([[1,2,3,4,5],[6,7,8,9,10]])\n",
    "print(arr.shape)"
   ]
  },
  {
   "cell_type": "code",
   "execution_count": 18,
   "id": "1dc221a4",
   "metadata": {},
   "outputs": [
    {
     "name": "stdout",
     "output_type": "stream",
     "text": [
      "[[ 1  2  3]\n",
      " [ 4  5  6]\n",
      " [ 7  8  9]\n",
      " [10 11 12]]\n"
     ]
    }
   ],
   "source": [
    "#Reshape of array\n",
    "\n",
    "arr = np.array([1,2,3,4,5,6,7,8,9,10,11,12])\n",
    "newarr = arr.reshape(4,3)\n",
    "print(newarr)"
   ]
  },
  {
   "cell_type": "markdown",
   "id": "8a2ea49e",
   "metadata": {},
   "source": [
    "Reshape from 1-D TO 3-D"
   ]
  },
  {
   "cell_type": "code",
   "execution_count": 19,
   "id": "b530fd41",
   "metadata": {},
   "outputs": [
    {
     "name": "stdout",
     "output_type": "stream",
     "text": [
      "[[[ 1  2]\n",
      "  [ 3  4]\n",
      "  [ 5  6]]\n",
      "\n",
      " [[ 7  8]\n",
      "  [ 9 10]\n",
      "  [11 12]]]\n"
     ]
    }
   ],
   "source": [
    "arr = np.array([1,2,3,4,5,6,7,8,9,10,11,12])\n",
    "newarr = arr.reshape(2,3,2)\n",
    "print(newarr)"
   ]
  },
  {
   "cell_type": "markdown",
   "id": "a2e59b92",
   "metadata": {},
   "source": [
    "NumPy  \n",
    "\n",
    "1.Searching Arrays       \n",
    "2.Search Sorted            \n",
    "3.Search from the right side           \n",
    "4.Multiple values             "
   ]
  },
  {
   "cell_type": "code",
   "execution_count": 20,
   "id": "51618f29",
   "metadata": {},
   "outputs": [
    {
     "name": "stdout",
     "output_type": "stream",
     "text": [
      "(array([3, 5, 6]),)\n"
     ]
    }
   ],
   "source": [
    "#1.\n",
    "\n",
    "#find the indexes where the value is 4:\n",
    "arr = np.array([1,2,3,4,5,4,4])\n",
    "x = np.where(arr == 4)\n",
    "print(x)"
   ]
  },
  {
   "cell_type": "code",
   "execution_count": 21,
   "id": "b93d1416",
   "metadata": {},
   "outputs": [
    {
     "name": "stdout",
     "output_type": "stream",
     "text": [
      "1\n"
     ]
    }
   ],
   "source": [
    "#2.\n",
    "\n",
    "arr = np.array([6,7,8,9])\n",
    "x = np.searchsorted(arr,7)\n",
    "print(x)"
   ]
  },
  {
   "cell_type": "code",
   "execution_count": 22,
   "id": "70202fc5",
   "metadata": {},
   "outputs": [
    {
     "name": "stdout",
     "output_type": "stream",
     "text": [
      "2\n"
     ]
    }
   ],
   "source": [
    "#3.1\n",
    "\n",
    "arr = np.array([6,7,8,9])\n",
    "x = np.searchsorted(arr,7, side='right')\n",
    "print(x)"
   ]
  },
  {
   "cell_type": "code",
   "execution_count": 23,
   "id": "c1abe044",
   "metadata": {},
   "outputs": [
    {
     "name": "stdout",
     "output_type": "stream",
     "text": [
      "1\n"
     ]
    }
   ],
   "source": [
    "#3.2\n",
    "\n",
    "arr = np.array([6,7,8,9])\n",
    "x = np.searchsorted(arr,7, side='left')\n",
    "print(x)"
   ]
  },
  {
   "cell_type": "code",
   "execution_count": 24,
   "id": "469bde62",
   "metadata": {},
   "outputs": [
    {
     "name": "stdout",
     "output_type": "stream",
     "text": [
      "['apple' 'banana' 'cherry']\n"
     ]
    }
   ],
   "source": [
    "#4.\n",
    "\n",
    "arr = np.array(['banana','cherry','apple'])\n",
    "print(np.sort(arr))"
   ]
  },
  {
   "cell_type": "markdown",
   "id": "16aee105",
   "metadata": {},
   "source": [
    "Numpy Aggregation function : \n",
    "\n",
    "aggregate function performns a calculation on a set of values, and returns a single value."
   ]
  },
  {
   "cell_type": "code",
   "execution_count": 25,
   "id": "2350266a",
   "metadata": {},
   "outputs": [
    {
     "name": "stdout",
     "output_type": "stream",
     "text": [
      "a : [1 2 3 4 5]\n",
      "sum: 15\n",
      "product : 120\n",
      "mean : 3.0\n",
      "standard_deviation : 1.4142135623730951\n",
      "variance: 2.0\n",
      "minimum value: 1\n",
      "maximum value: 5\n",
      "minimum index: 0\n",
      "maximum index: 4\n",
      "median: 3.0\n"
     ]
    }
   ],
   "source": [
    "a=np.array([1,2,3,4,5])\n",
    "print(\"a :\",a)\n",
    "sum=np.sum(a)\n",
    "print(\"sum:\",sum)\n",
    "product=np.prod(a)\n",
    "print(\"product :\",product)\n",
    "mean=np.mean(a)\n",
    "print(\"mean :\",mean)\n",
    "standard_deviation=np.std(a)\n",
    "print(\"standard_deviation :\",standard_deviation)\n",
    "variance=np.var(a)\n",
    "print(\"variance:\", variance)\n",
    "minimum=np.min(a)\n",
    "print(\"minimum value:\",minimum)\n",
    "maximum=np.max(a)\n",
    "print(\"maximum value:\",maximum)\n",
    "minimum_index=np.argmin(a)\n",
    "print(\"minimum index:\",minimum_index)\n",
    "maximum_index=np.argmax(a)\n",
    "print(\"maximum index:\",maximum_index)\n",
    "median=np.median(a)\n",
    "print(\"median:\",median)\n"
   ]
  },
  {
   "cell_type": "code",
   "execution_count": null,
   "id": "1f4fd7cf",
   "metadata": {},
   "outputs": [],
   "source": []
  }
 ],
 "metadata": {
  "kernelspec": {
   "display_name": "Python 3 (ipykernel)",
   "language": "python",
   "name": "python3"
  },
  "language_info": {
   "codemirror_mode": {
    "name": "ipython",
    "version": 3
   },
   "file_extension": ".py",
   "mimetype": "text/x-python",
   "name": "python",
   "nbconvert_exporter": "python",
   "pygments_lexer": "ipython3",
   "version": "3.9.12"
  }
 },
 "nbformat": 4,
 "nbformat_minor": 5
}
