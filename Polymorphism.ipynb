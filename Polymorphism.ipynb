{
 "cells": [
  {
   "cell_type": "markdown",
   "id": "d412c160",
   "metadata": {},
   "source": [
    "Polymorphism : \n",
    "\n",
    "It refers to use of a single type entity(methods, operator or object) to represent different type in different scenario."
   ]
  },
  {
   "cell_type": "code",
   "execution_count": 5,
   "id": "fa222d64",
   "metadata": {},
   "outputs": [],
   "source": [
    "class Bird:\n",
    "    def intro(self):\n",
    "        print(\"there are many types of birds.\")\n",
    "    def fly(self):\n",
    "        print(\"most of the birds can fly but some cannot.\")\n",
    "        \n",
    "class sparrow(Bird):\n",
    "    def fly(self):\n",
    "        print(\"Sparrows can fly.\")\n",
    "        \n",
    "class ostrich(Bird):\n",
    "    def fly(self):\n",
    "        print(\"Ostriches cannot fly.\")"
   ]
  },
  {
   "cell_type": "code",
   "execution_count": 6,
   "id": "f4e6510b",
   "metadata": {},
   "outputs": [],
   "source": [
    "obj_bird = Bird()\n",
    "obj_sparrow=sparrow()\n",
    "obj_ostrich=ostrich()"
   ]
  },
  {
   "cell_type": "code",
   "execution_count": 7,
   "id": "ddbecdb0",
   "metadata": {},
   "outputs": [
    {
     "name": "stdout",
     "output_type": "stream",
     "text": [
      "Sparrows can fly.\n"
     ]
    }
   ],
   "source": [
    "obj_sparrow.fly()"
   ]
  },
  {
   "cell_type": "code",
   "execution_count": 8,
   "id": "bcd9cd96",
   "metadata": {},
   "outputs": [
    {
     "name": "stdout",
     "output_type": "stream",
     "text": [
      "Meow\n",
      "I am a cat. My name is Kitty. I am 2.5 years old.\n",
      "Moo\n",
      "I am a cow. My name is Fluppy. I am 4 years old.\n"
     ]
    }
   ],
   "source": [
    "class Cat:\n",
    "    def __init__(self, name, age):\n",
    "        self.name = name\n",
    "        self.age = age\n",
    "        \n",
    "    def info(self):\n",
    "        print(f\"I am a cat. My name is {self.name}. I am {self.age} years old.\")\n",
    "        \n",
    "    def make_sound(self):\n",
    "        print(\"Meow\")\n",
    "        \n",
    "\n",
    "class Cow:\n",
    "    def __init__(self, name, age):\n",
    "        self.name = name\n",
    "        self.age = age\n",
    "        \n",
    "    def info(self):\n",
    "        print(f\"I am a cow. My name is {self.name}. I am {self.age} years old.\")\n",
    "        \n",
    "    def make_sound(self):\n",
    "        print(\"Moo\")\n",
    "        \n",
    "cat1 = Cat(\"Kitty\", 2.5)\n",
    "cow1 = Cow(\"Fluppy\", 4)\n",
    "\n",
    "for animal in (cat1,cow1):\n",
    "    animal.make_sound()\n",
    "    animal.info()\n",
    "    #animal.make_sound()"
   ]
  },
  {
   "cell_type": "code",
   "execution_count": 9,
   "id": "d2614772",
   "metadata": {},
   "outputs": [
    {
     "name": "stdout",
     "output_type": "stream",
     "text": [
      "circle\n",
      "I am a two-dimensional shape.\n",
      "squares have each angle equal to 90 degrees.\n",
      "153.93804002589985\n"
     ]
    }
   ],
   "source": [
    "from math import pi\n",
    "\n",
    "class shape:\n",
    "    def __init__(self, name):\n",
    "        self.name = name\n",
    "        \n",
    "    def area(self):\n",
    "        pass\n",
    "    \n",
    "    def fact(self):\n",
    "        return \"I am a two-dimensional shape.\"\n",
    "    \n",
    "    def __str__(self):\n",
    "        return self.name\n",
    "    \n",
    "class square(shape):\n",
    "    def __init__(self, length):\n",
    "        super().__init__(\"square\")\n",
    "        self.length = length\n",
    "        \n",
    "    def area(self):\n",
    "        return self.length**2\n",
    "    \n",
    "    def fact(self):\n",
    "        return \"squares have each angle equal to 90 degrees.\"\n",
    "    \n",
    "class circle(shape):\n",
    "    def __init__(self, radius):\n",
    "        super().__init__(\"circle\")\n",
    "        self.radius = radius\n",
    "    \n",
    "    def area(self):\n",
    "        return pi*self.radius**2\n",
    "    \n",
    "a = square(4)\n",
    "b = circle(7)\n",
    "print(b)\n",
    "print(b.fact())\n",
    "print(a.fact())\n",
    "print(b.area())"
   ]
  },
  {
   "cell_type": "markdown",
   "id": "cc613327",
   "metadata": {},
   "source": [
    "Method Overloading\n",
    "\n",
    "Method in python can be calles with 0,1 or more parameters this process of calling same method in different ways is called method overloading.<br>\n",
    "Overloading is the method that can do different functionality with same name."
   ]
  },
  {
   "cell_type": "code",
   "execution_count": 10,
   "id": "1314287d",
   "metadata": {},
   "outputs": [],
   "source": [
    "class VIP:\n",
    "    def Overloading(self, x=None,y=None):\n",
    "        if x==None and y==None:\n",
    "            print(\"Nothing\")\n",
    "        elif x!=None and y!=None:\n",
    "            print(\"Addition of two numbers\",x+y)\n",
    "        else:\n",
    "            print('you have passed only one argument :',x)\n",
    "                "
   ]
  },
  {
   "cell_type": "code",
   "execution_count": 11,
   "id": "34378179",
   "metadata": {},
   "outputs": [
    {
     "name": "stdout",
     "output_type": "stream",
     "text": [
      "Nothing\n"
     ]
    }
   ],
   "source": [
    "obj = VIP()\n",
    "obj.Overloading()"
   ]
  },
  {
   "cell_type": "code",
   "execution_count": null,
   "id": "0ee49075",
   "metadata": {},
   "outputs": [],
   "source": []
  }
 ],
 "metadata": {
  "kernelspec": {
   "display_name": "Python 3 (ipykernel)",
   "language": "python",
   "name": "python3"
  },
  "language_info": {
   "codemirror_mode": {
    "name": "ipython",
    "version": 3
   },
   "file_extension": ".py",
   "mimetype": "text/x-python",
   "name": "python",
   "nbconvert_exporter": "python",
   "pygments_lexer": "ipython3",
   "version": "3.9.12"
  }
 },
 "nbformat": 4,
 "nbformat_minor": 5
}
