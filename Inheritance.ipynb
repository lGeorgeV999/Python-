{
 "cells": [
  {
   "cell_type": "markdown",
   "id": "3225faa2",
   "metadata": {},
   "source": [
    "Inheritance : \n",
    "    \n",
    "Inheritance is a capability of a class to derive or inherit the property of another class.           \n",
    "The class that have derives properties is called as the derived class or child class.            \n",
    "And the class from which the properties are being derived is called as base class or parent class.        "
   ]
  },
  {
   "cell_type": "markdown",
   "id": "07ae1f86",
   "metadata": {},
   "source": [
    "Advantages:      \n",
    "\n",
    "1] Inheritance provide reusability of a code.             \n",
    "2] It is transitive in nature which means that if B inherit from another class A, then all the subclasses of b would automatically inherit from class A."
   ]
  },
  {
   "cell_type": "markdown",
   "id": "87f604af",
   "metadata": {},
   "source": [
    "Types of inheritance:"
   ]
  },
  {
   "cell_type": "markdown",
   "id": "6137f5a8",
   "metadata": {},
   "source": [
    "Single inheritance:         \n",
    "Multiple inheritance:         \n",
    "Multi-Level Inheritance:         \n",
    "Hierarchical Inheritance:         "
   ]
  },
  {
   "cell_type": "markdown",
   "id": "bd1c7f06",
   "metadata": {},
   "source": [
    "Single inheritance: Derived/child class to inherit characteristics from single-parent class."
   ]
  },
  {
   "cell_type": "code",
   "execution_count": 1,
   "id": "615f1163",
   "metadata": {},
   "outputs": [],
   "source": [
    "class parent:\n",
    "    def __init__ (self,name,age,sal):\n",
    "        self.name=name\n",
    "        self.age=age\n",
    "        self.sal=sal\n",
    "        \n",
    "    def details(self):\n",
    "        print(\"name of employee is:\",self.name)\n",
    "        print(\"age of employee is:\",self.age)\n",
    "        print(\"sal of employee is:\",self.sal)\n",
    "        \n",
    "e=parent('mayur',23,40000)"
   ]
  },
  {
   "cell_type": "code",
   "execution_count": 2,
   "id": "ec93e896",
   "metadata": {},
   "outputs": [
    {
     "name": "stdout",
     "output_type": "stream",
     "text": [
      "name of employee is: mayur\n",
      "age of employee is: 23\n",
      "sal of employee is: 40000\n"
     ]
    }
   ],
   "source": [
    "e.details()"
   ]
  },
  {
   "cell_type": "code",
   "execution_count": 3,
   "id": "3b9976de",
   "metadata": {},
   "outputs": [
    {
     "name": "stdout",
     "output_type": "stream",
     "text": [
      "Department is DSAI\n"
     ]
    }
   ],
   "source": [
    "class child(parent):\n",
    "    def department(self):\n",
    "        print(\"Department is DSAI\")\n",
    "\n",
    "d = child('mahesh',21,40000)\n",
    "d.department()"
   ]
  },
  {
   "cell_type": "code",
   "execution_count": 4,
   "id": "0fd6cf32",
   "metadata": {},
   "outputs": [
    {
     "name": "stdout",
     "output_type": "stream",
     "text": [
      "name of employee is: mahesh\n",
      "age of employee is: 21\n",
      "sal of employee is: 40000\n"
     ]
    }
   ],
   "source": [
    "d.details()"
   ]
  },
  {
   "cell_type": "markdown",
   "id": "48402006",
   "metadata": {},
   "source": [
    "Multiple inheritance: A single child class is inherited from two or more parent class. This means that the child class has access to all the method and attribute of all the parent class.    \n"
   ]
  },
  {
   "cell_type": "code",
   "execution_count": 5,
   "id": "bad6a079",
   "metadata": {},
   "outputs": [],
   "source": [
    "class dad:  #first parent\n",
    "    def func1(self):\n",
    "        print(\"Hello dad\")\n",
    "        \n",
    "class mom:   #second parent\n",
    "    def func2(self):\n",
    "        print(\"Hello mom\")\n",
    "\n",
    "class child(dad,mom): #child class\n",
    "    def func3(self): #we include the parent classes\n",
    "        print(\"Hello child\")  #as an argument comma separated"
   ]
  },
  {
   "cell_type": "code",
   "execution_count": 6,
   "id": "c0f05108",
   "metadata": {},
   "outputs": [
    {
     "name": "stdout",
     "output_type": "stream",
     "text": [
      "Hello dad\n",
      "Hello mom\n",
      "Hello child\n"
     ]
    }
   ],
   "source": [
    "test = child()  #object created\n",
    "test.func1()    #parent1 method called via child\n",
    "test.func2()    #parent2 method called via child\n",
    "test.func3()    #child method called"
   ]
  },
  {
   "cell_type": "markdown",
   "id": "964775f6",
   "metadata": {},
   "source": [
    "Hierarchical Inheritance:Hierarchical Inheritance , is right opposite of multiple inheritance.This means that there are multiple child classes from single parent.         "
   ]
  },
  {
   "cell_type": "code",
   "execution_count": 7,
   "id": "72325ce3",
   "metadata": {},
   "outputs": [],
   "source": [
    "class parent():\n",
    "    def eye(self):\n",
    "        print(\"Blue\")\n",
    "        \n",
    "class child1(parent):\n",
    "    def hair(self):\n",
    "        print(\"curly\")\n",
    "    def Dimple(self):\n",
    "        print(\"Dimple\")\n",
    "    \n",
    "class child2(parent):\n",
    "    def skin(self):\n",
    "        print(\"Dusky\")"
   ]
  },
  {
   "cell_type": "code",
   "execution_count": 8,
   "id": "8bca5d00",
   "metadata": {},
   "outputs": [],
   "source": [
    "c1 = child1()\n",
    "c2 = child2()"
   ]
  },
  {
   "cell_type": "code",
   "execution_count": 9,
   "id": "933dafce",
   "metadata": {},
   "outputs": [
    {
     "name": "stdout",
     "output_type": "stream",
     "text": [
      "Blue\n"
     ]
    }
   ],
   "source": [
    "c1.eye()"
   ]
  },
  {
   "cell_type": "code",
   "execution_count": 10,
   "id": "94a7f507",
   "metadata": {},
   "outputs": [
    {
     "name": "stdout",
     "output_type": "stream",
     "text": [
      "curly\n"
     ]
    }
   ],
   "source": [
    "c1.hair()"
   ]
  },
  {
   "cell_type": "code",
   "execution_count": null,
   "id": "29fb1590",
   "metadata": {},
   "outputs": [],
   "source": []
  }
 ],
 "metadata": {
  "kernelspec": {
   "display_name": "Python 3 (ipykernel)",
   "language": "python",
   "name": "python3"
  },
  "language_info": {
   "codemirror_mode": {
    "name": "ipython",
    "version": 3
   },
   "file_extension": ".py",
   "mimetype": "text/x-python",
   "name": "python",
   "nbconvert_exporter": "python",
   "pygments_lexer": "ipython3",
   "version": "3.9.12"
  }
 },
 "nbformat": 4,
 "nbformat_minor": 5
}
