{
 "cells": [
  {
   "cell_type": "markdown",
   "id": "19f94507",
   "metadata": {},
   "source": [
    "Lambda Function:\n",
    "\n",
    "Lambda functions are anonymous function means that the function is without name."
   ]
  },
  {
   "cell_type": "code",
   "execution_count": 1,
   "id": "57ca5535",
   "metadata": {},
   "outputs": [
    {
     "name": "stdout",
     "output_type": "stream",
     "text": [
      "15\n"
     ]
    }
   ],
   "source": [
    "x = lambda a : a + 10\n",
    "print(x(5))"
   ]
  },
  {
   "cell_type": "code",
   "execution_count": 2,
   "id": "a54ebf97",
   "metadata": {},
   "outputs": [
    {
     "name": "stdout",
     "output_type": "stream",
     "text": [
      "30\n"
     ]
    }
   ],
   "source": [
    "x = lambda a,b : a * b\n",
    "print(x(5,6))"
   ]
  },
  {
   "cell_type": "code",
   "execution_count": 3,
   "id": "c55873c7",
   "metadata": {},
   "outputs": [
    {
     "name": "stdout",
     "output_type": "stream",
     "text": [
      "11\n"
     ]
    }
   ],
   "source": [
    "x = lambda a,b,c,d : a+b\n",
    "print(x(5,6,7,8))"
   ]
  },
  {
   "cell_type": "code",
   "execution_count": 4,
   "id": "7fdee504",
   "metadata": {},
   "outputs": [
    {
     "name": "stdout",
     "output_type": "stream",
     "text": [
      "22\n"
     ]
    }
   ],
   "source": [
    "def myfunc(n):\n",
    "    return lambda a:a*n\n",
    "\n",
    "mydoubler = myfunc(2)\n",
    "print(mydoubler(11))"
   ]
  },
  {
   "cell_type": "markdown",
   "id": "763d4be8",
   "metadata": {},
   "source": [
    "Mapping function "
   ]
  },
  {
   "cell_type": "code",
   "execution_count": 5,
   "id": "5b591575",
   "metadata": {},
   "outputs": [
    {
     "name": "stdout",
     "output_type": "stream",
     "text": [
      "[50, 100, 150, 200]\n"
     ]
    }
   ],
   "source": [
    "def multiply (n):\n",
    "    return n *50\n",
    "\n",
    "numbers = (1,2,3,4)\n",
    "result = map(multiply,numbers)\n",
    "print(list(result))"
   ]
  },
  {
   "cell_type": "code",
   "execution_count": 6,
   "id": "575927df",
   "metadata": {},
   "outputs": [
    {
     "name": "stdout",
     "output_type": "stream",
     "text": [
      "[['s', 'a', 't'], ['c', 'a', 't'], ['m', 'a', 't'], ['r', 'a', 't']]\n"
     ]
    }
   ],
   "source": [
    "#list of strings\n",
    "\n",
    "l = ['sat','cat','mat','rat']\n",
    "test = list(map(list,l))\n",
    "print(test)"
   ]
  },
  {
   "cell_type": "code",
   "execution_count": null,
   "id": "f2c75e5d",
   "metadata": {},
   "outputs": [],
   "source": []
  }
 ],
 "metadata": {
  "kernelspec": {
   "display_name": "Python 3 (ipykernel)",
   "language": "python",
   "name": "python3"
  },
  "language_info": {
   "codemirror_mode": {
    "name": "ipython",
    "version": 3
   },
   "file_extension": ".py",
   "mimetype": "text/x-python",
   "name": "python",
   "nbconvert_exporter": "python",
   "pygments_lexer": "ipython3",
   "version": "3.9.12"
  }
 },
 "nbformat": 4,
 "nbformat_minor": 5
}
