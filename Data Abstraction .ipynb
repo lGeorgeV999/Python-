{
 "cells": [
  {
   "cell_type": "markdown",
   "id": "2af2c28f",
   "metadata": {},
   "source": [
    "Data abstraction         \n",
    "\n",
    "1.Hiding the impementation details from the users.         \n",
    "2.Abstraction is the very powerful concept of oops for making complex task and code simpler to use.         \n",
    "3.It reduces the compexity for the user by making relevant part accessible and usable living the unneccessary code hidden.             \n",
    "4.There are many times the programmer doesn't want to out sensitive part of our code this is where data abstraction can be vary functional.           \n",
    "Data abstraction in python can be achieve through by creating abstract classes and inheriting later.     "
   ]
  },
  {
   "cell_type": "markdown",
   "id": "0f6c5fb6",
   "metadata": {},
   "source": [
    "Abstract class¶\n",
    "\n",
    "1.Abstract classes can not ne instantiated directly this means that we can not create object of an abstract class.     \n",
    "2.Abstract class is an interface.            \n",
    "3.Interface in oops enable a class to inherit data and functions from a base class by extending it in python we use the NotImplementedError to restrict the instantiation of a class.         \n",
    "4.Any class having this error inside the method definition cannot be instantiated.     "
   ]
  },
  {
   "cell_type": "code",
   "execution_count": 1,
   "id": "1dcf7649",
   "metadata": {},
   "outputs": [],
   "source": [
    "from abc import ABC, abstractclassmethod"
   ]
  },
  {
   "cell_type": "code",
   "execution_count": 2,
   "id": "e3de814d",
   "metadata": {},
   "outputs": [
    {
     "ename": "TypeError",
     "evalue": "Can't instantiate abstract class joy with abstract method wonderful",
     "output_type": "error",
     "traceback": [
      "\u001b[0;31m---------------------------------------------------------------------------\u001b[0m",
      "\u001b[0;31mTypeError\u001b[0m                                 Traceback (most recent call last)",
      "Input \u001b[0;32mIn [2]\u001b[0m, in \u001b[0;36m<cell line: 8>\u001b[0;34m()\u001b[0m\n\u001b[1;32m      5\u001b[0m     \u001b[38;5;28;01mdef\u001b[39;00m \u001b[38;5;21mfun\u001b[39m(\u001b[38;5;28mself\u001b[39m):\n\u001b[1;32m      6\u001b[0m         \u001b[38;5;28mprint\u001b[39m(\u001b[38;5;124m\"\u001b[39m\u001b[38;5;124mjoy is fun\u001b[39m\u001b[38;5;124m\"\u001b[39m)\n\u001b[0;32m----> 8\u001b[0m obj\u001b[38;5;241m=\u001b[39m\u001b[43mjoy\u001b[49m\u001b[43m(\u001b[49m\u001b[43m)\u001b[49m\n\u001b[1;32m      9\u001b[0m obj\u001b[38;5;241m.\u001b[39mwonderful()\n\u001b[1;32m     10\u001b[0m obj\u001b[38;5;241m.\u001b[39mfun()\n",
      "\u001b[0;31mTypeError\u001b[0m: Can't instantiate abstract class joy with abstract method wonderful"
     ]
    }
   ],
   "source": [
    "class joy(ABC):\n",
    "    @abstractclassmethod\n",
    "    def wonderful(self):\n",
    "        print(\"joy is wonderful\")\n",
    "    def fun(self):\n",
    "        print(\"joy is fun\")\n",
    "\n",
    "obj=joy()\n",
    "obj.wonderful()\n",
    "obj.fun()"
   ]
  },
  {
   "cell_type": "code",
   "execution_count": 3,
   "id": "ca4d4da1",
   "metadata": {},
   "outputs": [
    {
     "name": "stdout",
     "output_type": "stream",
     "text": [
      "I can walk and run\n",
      "I can crawl\n",
      "I can bark\n",
      "I can roar\n"
     ]
    }
   ],
   "source": [
    "from abc import ABC, abstractmethod\n",
    "class Animal(ABC):\n",
    " \n",
    "    def move(self):\n",
    "\n",
    "        pass\n",
    " \n",
    "class Human(Animal):\n",
    " \n",
    "    def move(self):\n",
    "\n",
    "        print(\"I can walk and run\")\n",
    " \n",
    "class Snake(Animal):\n",
    " \n",
    "    def move(self):\n",
    "\n",
    "        print(\"I can crawl\")\n",
    " \n",
    "class Dog(Animal):\n",
    " \n",
    "    def move(self):\n",
    "\n",
    "        print(\"I can bark\")\n",
    " \n",
    "class Lion(Animal):\n",
    " \n",
    "    def move(self):\n",
    "\n",
    "        print(\"I can roar\")\n",
    "\n",
    "         \n",
    "# Driver code\n",
    "R = Human()\n",
    "R.move()\n",
    " \n",
    "K = Snake()\n",
    "K.move()\n",
    " \n",
    "R = Dog()\n",
    "R.move()\n",
    " \n",
    "K = Lion()\n",
    "K.move()"
   ]
  },
  {
   "cell_type": "code",
   "execution_count": null,
   "id": "afa73ed1",
   "metadata": {},
   "outputs": [],
   "source": []
  }
 ],
 "metadata": {
  "kernelspec": {
   "display_name": "Python 3 (ipykernel)",
   "language": "python",
   "name": "python3"
  },
  "language_info": {
   "codemirror_mode": {
    "name": "ipython",
    "version": 3
   },
   "file_extension": ".py",
   "mimetype": "text/x-python",
   "name": "python",
   "nbconvert_exporter": "python",
   "pygments_lexer": "ipython3",
   "version": "3.9.12"
  }
 },
 "nbformat": 4,
 "nbformat_minor": 5
}
